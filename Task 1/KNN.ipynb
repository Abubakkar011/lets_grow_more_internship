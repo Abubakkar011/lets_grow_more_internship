{
 "cells": [
  {
   "cell_type": "markdown",
   "id": "1f679452-2e7d-416e-b447-9a5ff92df440",
   "metadata": {},
   "source": [
    "# <center> KNN - Classification</center>"
   ]
  },
  {
   "cell_type": "markdown",
   "id": "fa4d1863-510e-446a-b157-5b2319bba007",
   "metadata": {},
   "source": [
    "## Importing Dependencies"
   ]
  },
  {
   "cell_type": "code",
   "execution_count": 42,
   "id": "25e05b9e-d3f3-4be6-8d12-26a975769a1d",
   "metadata": {},
   "outputs": [],
   "source": [
    "import pandas as pd\n",
    "import numpy as np\n",
    "from matplotlib import pyplot as plt\n",
    "from sklearn.model_selection import train_test_split\n",
    "from sklearn.neighbors import KNeighborsClassifier\n",
    "from sklearn.metrics import confusion_matrix\n",
    "from sklearn.metrics import classification_report\n",
    "import seaborn as sns\n",
    "from seaborn import heatmap"
   ]
  },
  {
   "cell_type": "markdown",
   "id": "5c7a495b-58d9-47ad-ae59-de60da1a4344",
   "metadata": {},
   "source": [
    "## Reading CSV file"
   ]
  },
  {
   "cell_type": "code",
   "execution_count": 2,
   "id": "cb81084d-d1f4-4c8b-87e3-65d586a3a5d2",
   "metadata": {},
   "outputs": [
    {
     "data": {
      "text/html": [
       "<div>\n",
       "<style scoped>\n",
       "    .dataframe tbody tr th:only-of-type {\n",
       "        vertical-align: middle;\n",
       "    }\n",
       "\n",
       "    .dataframe tbody tr th {\n",
       "        vertical-align: top;\n",
       "    }\n",
       "\n",
       "    .dataframe thead th {\n",
       "        text-align: right;\n",
       "    }\n",
       "</style>\n",
       "<table border=\"1\" class=\"dataframe\">\n",
       "  <thead>\n",
       "    <tr style=\"text-align: right;\">\n",
       "      <th></th>\n",
       "      <th>sepal length (cm)</th>\n",
       "      <th>sepal width (cm)</th>\n",
       "      <th>petal length (cm)</th>\n",
       "      <th>petal width (cm)</th>\n",
       "      <th>target</th>\n",
       "    </tr>\n",
       "  </thead>\n",
       "  <tbody>\n",
       "    <tr>\n",
       "      <th>0</th>\n",
       "      <td>5.1</td>\n",
       "      <td>3.5</td>\n",
       "      <td>1.4</td>\n",
       "      <td>0.2</td>\n",
       "      <td>setosa</td>\n",
       "    </tr>\n",
       "    <tr>\n",
       "      <th>1</th>\n",
       "      <td>4.9</td>\n",
       "      <td>3.0</td>\n",
       "      <td>1.4</td>\n",
       "      <td>0.2</td>\n",
       "      <td>setosa</td>\n",
       "    </tr>\n",
       "    <tr>\n",
       "      <th>2</th>\n",
       "      <td>4.7</td>\n",
       "      <td>3.2</td>\n",
       "      <td>1.3</td>\n",
       "      <td>0.2</td>\n",
       "      <td>setosa</td>\n",
       "    </tr>\n",
       "    <tr>\n",
       "      <th>3</th>\n",
       "      <td>4.6</td>\n",
       "      <td>3.1</td>\n",
       "      <td>1.5</td>\n",
       "      <td>0.2</td>\n",
       "      <td>setosa</td>\n",
       "    </tr>\n",
       "    <tr>\n",
       "      <th>4</th>\n",
       "      <td>5.0</td>\n",
       "      <td>3.6</td>\n",
       "      <td>1.4</td>\n",
       "      <td>0.2</td>\n",
       "      <td>setosa</td>\n",
       "    </tr>\n",
       "  </tbody>\n",
       "</table>\n",
       "</div>"
      ],
      "text/plain": [
       "   sepal length (cm)  sepal width (cm)  petal length (cm)  petal width (cm)  \\\n",
       "0                5.1               3.5                1.4               0.2   \n",
       "1                4.9               3.0                1.4               0.2   \n",
       "2                4.7               3.2                1.3               0.2   \n",
       "3                4.6               3.1                1.5               0.2   \n",
       "4                5.0               3.6                1.4               0.2   \n",
       "\n",
       "   target  \n",
       "0  setosa  \n",
       "1  setosa  \n",
       "2  setosa  \n",
       "3  setosa  \n",
       "4  setosa  "
      ]
     },
     "execution_count": 2,
     "metadata": {},
     "output_type": "execute_result"
    }
   ],
   "source": [
    "df=pd.read_csv('iris.csv')\n",
    "df.head()"
   ]
  },
  {
   "cell_type": "markdown",
   "id": "4c12877d-2816-40d2-adf0-7da084c1930d",
   "metadata": {},
   "source": [
    "## Plotting Petal and Sepal"
   ]
  },
  {
   "cell_type": "code",
   "execution_count": 51,
   "id": "ae9eb328-4e4c-4937-a064-96a7e95a875a",
   "metadata": {},
   "outputs": [
    {
     "data": {
      "image/png": "[encoded data removed]",
      "text/plain": [
       "<Figure size 640x480 with 1 Axes>"
      ]
     },
     "metadata": {},
     "output_type": "display_data"
    }
   ],
   "source": [
    "plt.scatter(df['petal length (cm)'],df['petal width (cm)'],color='green',label='Petal')\n",
    "plt.scatter(df['sepal length (cm)'],df['sepal width (cm)'],color='orange',label='Sepal')\n",
    "plt.legend()\n",
    "plt.show()"
   ]
  },
  {
   "cell_type": "markdown",
   "id": "3dafab5f-a516-4ab6-86e0-87cf395052e5",
   "metadata": {},
   "source": [
    "## Splitting data into train and test set"
   ]
  },
  {
   "cell_type": "code",
   "execution_count": 50,
   "id": "0efb4df8-dfee-4f9e-ad9f-5b5eb3a8f4ad",
   "metadata": {},
   "outputs": [],
   "source": [
    "x_train,x_test,y_train,y_test=train_test_split(df.drop(columns=['target']),df['target'],test_size=0.2)"
   ]
  },
  {
   "cell_type": "markdown",
   "id": "554af88f-a47b-46c6-988e-d7e14b4851a9",
   "metadata": {},
   "source": [
    "## Creating a KNN model with n_neighbors as 3"
   ]
  },
  {
   "cell_type": "code",
   "execution_count": null,
   "id": "f70aa56c-d59d-41f6-be89-ed420bed4c7e",
   "metadata": {},
   "outputs": [],
   "source": [
    "model=KNeighborsClassifier(n_neighbors=3)\n",
    "model.fit(x_train,y_train)"
   ]
  },
  {
   "cell_type": "markdown",
   "id": "7aa06213-5245-4a49-8004-6e828058cab6",
   "metadata": {},
   "source": [
    "## Acquiring the score"
   ]
  },
  {
   "cell_type": "code",
   "execution_count": null,
   "id": "b401b888-acf9-44ee-984b-73cd8557e7a9",
   "metadata": {},
   "outputs": [],
   "source": [
    "model.score(x_test,y_test)"
   ]
  },
  {
   "cell_type": "markdown",
   "id": "dcd228b8-d8db-465b-b2ee-cb4c8098bb2d",
   "metadata": {},
   "source": [
    "## Making predictions of x_test"
   ]
  },
  {
   "cell_type": "code",
   "execution_count": 23,
   "id": "9899c689-c86a-498d-b113-ec93411a08e5",
   "metadata": {},
   "outputs": [
    {
     "data": {
      "text/plain": [
       "0        setosa\n",
       "1    versicolor\n",
       "2     virginica\n",
       "3    versicolor\n",
       "4    versicolor\n",
       "Name: target, dtype: object"
      ]
     },
     "execution_count": 23,
     "metadata": {},
     "output_type": "execute_result"
    }
   ],
   "source": [
    "y_pred=model.predict(x_test)\n",
    "y_pred=pd.Series(y_pred,name='target')\n",
    "y_pred.head()"
   ]
  },
  {
   "cell_type": "markdown",
   "id": "04638542-3da6-4a33-9e3e-cea70cd2d6eb",
   "metadata": {},
   "source": [
    "## Plotting a heatmap to fetch error counts"
   ]
  },
  {
   "cell_type": "code",
   "execution_count": 49,
   "id": "e316f6cd-4e00-4255-9c5e-c99b7752d851",
   "metadata": {},
   "outputs": [
    {
     "data": {
      "text/plain": [
       "<Axes: >"
      ]
     },
     "execution_count": 49,
     "metadata": {},
     "output_type": "execute_result"
    },
    {
     "data": {
      "image/png": "[encoded data removed]",
      "text/plain": [
       "<Figure size 640x480 with 2 Axes>"
      ]
     },
     "metadata": {},
     "output_type": "display_data"
    }
   ],
   "source": [
    "heatmap(confusion_matrix(y_test,y_pred),annot=True,cmap=sns.cubehelix_palette(as_cmap=True))"
   ]
  },
  {
   "cell_type": "markdown",
   "id": "dbc1d3fa-f2fb-4d00-ac39-4d00468f5736",
   "metadata": {},
   "source": [
    "## Summarized Report of Classified targets"
   ]
  },
  {
   "cell_type": "code",
   "execution_count": 36,
   "id": "b70455c5-2180-445e-b94b-27d55009a43d",
   "metadata": {},
   "outputs": [
    {
     "name": "stdout",
     "output_type": "stream",
     "text": [
      "              precision    recall  f1-score   support\n",
      "\n",
      "      setosa       1.00      1.00      1.00        10\n",
      "  versicolor       1.00      1.00      1.00        11\n",
      "   virginica       1.00      1.00      1.00         9\n",
      "\n",
      "    accuracy                           1.00        30\n",
      "   macro avg       1.00      1.00      1.00        30\n",
      "weighted avg       1.00      1.00      1.00        30\n",
      "\n"
     ]
    }
   ],
   "source": [
    "print(classification_report(y_test,y_pred))"
   ]
  },
  {
   "cell_type": "markdown",
   "id": "d02872fc-9e45-41d6-b4c2-6d7acd0c3165",
   "metadata": {},
   "source": [
    "# <center> THANK YOU </center>"
   ]
  }
 ],
 "metadata": {
  "kernelspec": {
   "display_name": "Python 3 (ipykernel)",
   "language": "python",
   "name": "python3"
  },
  "language_info": {
   "codemirror_mode": {
    "name": "ipython",
    "version": 3
   },
   "file_extension": ".py",
   "mimetype": "text/x-python",
   "name": "python",
   "nbconvert_exporter": "python",
   "pygments_lexer": "ipython3",
   "version": "3.10.13"
  }
 },
 "nbformat": 4,
 "nbformat_minor": 5
}
